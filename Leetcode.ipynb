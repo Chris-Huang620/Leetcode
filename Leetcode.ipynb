{
 "cells": [
  {
   "cell_type": "markdown",
   "metadata": {
    "id": "W7h3itf84bKo"
   },
   "source": [
    "See notes here:\n",
    "\n",
    "https://docs.google.com/spreadsheets/d/1W96-ABJdIq3WCptaUT-4Fz1Ny-kVcf8cVGX2VGRJk4c/edit#gid=0\n",
    "\n",
    "List of questions to grind through:\n",
    "\n",
    "https://seanprashad.com/leetcode-patterns/\n",
    "\n",
    "Example Solutions:\n",
    "\n",
    "https://github.com/qiyuangong/leetcode/blob/master/python/001_Two_Sum.py\n",
    "\n",
    "Big O cheatsheet:\n",
    "\n",
    "https://www.bigocheatsheet.com\n",
    "\n",
    "Bit Manipulation:\n",
    "\n",
    "https://realpython.com/python-bitwise-operators/\n",
    "\n",
    "https://www.youtube.com/watch?v=NLKQEOgBAnw&t=138s\n",
    "\n"
   ]
  },
  {
   "cell_type": "markdown",
   "metadata": {
    "id": "AxebcA6Ga_xT"
   },
   "source": [
    "Solution Template"
   ]
  },
  {
   "cell_type": "code",
   "execution_count": null,
   "metadata": {
    "id": "ipgHq-Gta-Ti"
   },
   "outputs": [],
   "source": [
    "class Solution(object):\n",
    "\n",
    "    # Time: \n",
    "    # Space: \n",
    "    def (self, ):\n",
    "                \n",
    "      \n",
    "if __name__ == '__main__':\n",
    "    s = Solution()\n",
    "    print(s.())"
   ]
  },
  {
   "cell_type": "markdown",
   "metadata": {
    "id": "QIvWLNbZ3qL6"
   },
   "source": [
    "# *Linked List*"
   ]
  },
  {
   "cell_type": "code",
   "execution_count": null,
   "metadata": {
    "colab": {
     "base_uri": "https://localhost:8080/"
    },
    "id": "babFSWYiG7Nh",
    "outputId": "ab1e819a-cc6c-4265-91cb-09ef31306fbc"
   },
   "outputs": [
    {
     "name": "stdout",
     "output_type": "stream",
     "text": [
      "True\n"
     ]
    }
   ],
   "source": [
    "class ListNode:\n",
    "   def __init__(self, data, next = None):\n",
    "      self.data = data\n",
    "      self.next = next\n",
    "def make_list(elements):\n",
    "   head = ListNode(elements[0])\n",
    "   for element in elements[1:]:\n",
    "      ptr = head\n",
    "      while ptr.next:\n",
    "         ptr = ptr.next\n",
    "      ptr.next = ListNode(element)\n",
    "   return head\n",
    "def get_node(head, pos):\n",
    "   if pos != -1:\n",
    "      p = 0\n",
    "      ptr = head\n",
    "      while p < pos:\n",
    "         ptr = ptr.next\n",
    "         p += 1\n",
    "      return ptr\n",
    "class Solution(object):\n",
    "   def hasCycle(self, head):\n",
    "      hashS = set()\n",
    "      while head:\n",
    "         if head in hashS:\n",
    "            return True\n",
    "         hashS.add(head)\n",
    "         head = head.next\n",
    "      return False\n",
    "head = make_list([5,3,2,0,-4,7])\n",
    "last_node = get_node(head, 5)\n",
    "pos = 1\n",
    "last_node.next = get_node(head, pos)\n",
    "ob1 = Solution()\n",
    "print(ob1.hasCycle(head))"
   ]
  },
  {
   "cell_type": "markdown",
   "metadata": {
    "id": "k50SGv7tcUe3"
   },
   "source": [
    "## Merge Two Sorted Linked List\n",
    "\n",
    "https://leetcode.com/problems/merge-two-sorted-lists"
   ]
  },
  {
   "cell_type": "code",
   "execution_count": null,
   "metadata": {
    "id": "ajBazUFrcTx9"
   },
   "outputs": [],
   "source": [
    "# Definition for singly-linked list.\n",
    "# class ListNode(object):\n",
    "#     def __init__(self, val=0, next=None):\n",
    "#         self.val = val\n",
    "#         self.next = next\n",
    "\n",
    "#T: O(n)\n",
    "#S: O(1)\n",
    "class Solution(object):\n",
    "    def mergeTwoLists(self, l1, l2):\n",
    "        \"\"\"\n",
    "        :type l1: ListNode\n",
    "        :type l2: ListNode\n",
    "        :rtype: ListNode\n",
    "        \"\"\"\n",
    "        #dummy moves, and head to be returned\n",
    "        head = ListNode()\n",
    "        dummy = head\n",
    "        while (l1 != None and l2 != None):\n",
    "            if l1.val<l2.val:\n",
    "                dummy.next = l1\n",
    "                l1 = l1.next\n",
    "            else:\n",
    "                dummy.next = l2\n",
    "                l2 = l2.next\n",
    "            dummy = dummy.next\n",
    "        #if we iterated through one list already, just append the rest of the other list\n",
    "        if l1 != None:\n",
    "            dummy.next = l1\n",
    "        else:\n",
    "            dummy.next = l2\n",
    "        \n",
    "        return head.next"
   ]
  },
  {
   "cell_type": "markdown",
   "metadata": {
    "id": "DzfxbiBjeeA7"
   },
   "source": [
    "## Detect Cycle in a Linked List\n",
    "\n",
    "https://leetcode.com/problems/linked-list-cycle/"
   ]
  },
  {
   "cell_type": "code",
   "execution_count": null,
   "metadata": {
    "id": "o3FTicuyFuOs"
   },
   "outputs": [],
   "source": [
    "class Solution:\n",
    "    def hasCycle(self, head: ListNode) -> bool:\n",
    "        slow, fast = head, head\n",
    "        while fast and fast.next:\n",
    "            slow = slow.next\n",
    "            fast = fast.next.next\n",
    "            if slow == fast:\n",
    "                return True\n",
    "        return False"
   ]
  },
  {
   "cell_type": "markdown",
   "metadata": {
    "id": "5vRCPIW84k5m"
   },
   "source": [
    "## Add Two Numbers \n",
    "\n",
    "https://leetcode.com/problems/add-two-numbers/"
   ]
  },
  {
   "cell_type": "code",
   "execution_count": null,
   "metadata": {
    "id": "lF6nECun4jry"
   },
   "outputs": [],
   "source": [
    "    \n",
    "class Solution:\n",
    "    def addTwoNumbers(self, l1: Optional[ListNode], l2: Optional[ListNode]) -> Optional[ListNode]:\n",
    "        head = ListNode()\n",
    "        dummy = head\n",
    "        carry = 0\n",
    "        while l1 or l2 or carry:\n",
    "            v1 = l1.val if l1 else 0\n",
    "            v2 = l2.val if l2 else 0\n",
    "            \n",
    "    \n",
    "            digit = v1+v2+carry\n",
    "            next_val = digit % 10\n",
    "            carry = digit //10\n",
    "            dummy.next = ListNode(next_val)\n",
    "            \n",
    "            l1 = l1.next if l1 else None\n",
    "            l2 = l2.next if l2 else None\n",
    "            dummy = dummy.next\n",
    "        return head.next"
   ]
  },
  {
   "cell_type": "markdown",
   "metadata": {
    "id": "VIc0P_D9Cglm"
   },
   "source": [
    "# *Bit Manipulation, Binary*\n"
   ]
  },
  {
   "cell_type": "markdown",
   "metadata": {
    "id": "26PuPh64hSDQ"
   },
   "source": [
    "## Single Number\n",
    "\n",
    "https://leetcode.com/problems/single-number/"
   ]
  },
  {
   "cell_type": "code",
   "execution_count": null,
   "metadata": {
    "colab": {
     "base_uri": "https://localhost:8080/"
    },
    "id": "Cad1e-fvhS3t",
    "outputId": "0c285e92-8d4c-409c-ab75-ef7e30ebe2ba"
   },
   "outputs": [
    {
     "name": "stdout",
     "output_type": "stream",
     "text": [
      "4\n"
     ]
    }
   ],
   "source": [
    "class Solution:\n",
    "  #Time: O(n)\n",
    "  #Space: O(1)\n",
    "  def singleNumber(self, nums):\n",
    "      sum=0\n",
    "      for i in nums:\n",
    "          sum=sum^i\n",
    "      return sum\n",
    "      \n",
    "if __name__ == '__main__':\n",
    "    s = Solution()\n",
    "    print(s.singleNumber([4,2,1,2,1]))"
   ]
  },
  {
   "cell_type": "markdown",
   "metadata": {
    "id": "JVyPgPhz94Y6"
   },
   "source": [
    "## Missing Number\n",
    "\n",
    "https://leetcode.com/problems/missing-number/"
   ]
  },
  {
   "cell_type": "code",
   "execution_count": null,
   "metadata": {
    "colab": {
     "base_uri": "https://localhost:8080/"
    },
    "id": "FqmOeQrP93id",
    "outputId": "50b71800-828a-4271-e21c-765f7670cd8e"
   },
   "outputs": [
    {
     "name": "stdout",
     "output_type": "stream",
     "text": [
      "8\n"
     ]
    }
   ],
   "source": [
    "class Solution(object):\n",
    "    # Time: O(n)\n",
    "    # Space: O(1)\n",
    "    def missingNumber(self, nums):\n",
    "      sum  = 0 \n",
    "      for i in range(len(nums)):\n",
    "        sum ^= nums[i] ^ (i+1)\n",
    "      return sum\n",
    "                \n",
    "if __name__ == '__main__':\n",
    "    s = Solution()\n",
    "    print(s.missingNumber([9,6,4,2,3,5,7,0,1]))"
   ]
  },
  {
   "cell_type": "markdown",
   "metadata": {
    "id": "n-U8OftpD53f"
   },
   "source": [
    "## Sum of Two Integers\n",
    "\n",
    "https://leetcode.com/problems/sum-of-two-integers/"
   ]
  },
  {
   "cell_type": "code",
   "execution_count": null,
   "metadata": {
    "colab": {
     "base_uri": "https://localhost:8080/"
    },
    "id": "Op9lOddqD8LY",
    "outputId": "dadd6a9a-4edd-4f99-8032-d1fe8809bee9"
   },
   "outputs": [
    {
     "name": "stdout",
     "output_type": "stream",
     "text": [
      "115\n"
     ]
    }
   ],
   "source": [
    "class Solution(object):\n",
    "    # Time: O(1)\n",
    "    # Space: O(1)\n",
    "    def getSum(self, a, b):\n",
    "        while b != 0:\n",
    "            #shifted carry\n",
    "            carry = (a & b) << 1\n",
    "            #sum without carry\n",
    "            a = a ^ b\n",
    "            #update a and b to continue the same operation for sum and shifted carry, until the carry is zero and sum is indeed the actual sum   \n",
    "            b = carry           \n",
    "        return a\n",
    "\n",
    "if __name__ == '__main__':\n",
    "    s = Solution()\n",
    "    print(s.getSum(100,15))"
   ]
  },
  {
   "cell_type": "markdown",
   "metadata": {
    "id": "TfE4u1MNCz-H"
   },
   "source": [
    "## Number of 1 Bits\n",
    "\n",
    "https://leetcode.com/problems/number-of-1-bits/"
   ]
  },
  {
   "cell_type": "code",
   "execution_count": null,
   "metadata": {
    "id": "8hOOCNH0C8tP"
   },
   "outputs": [],
   "source": []
  },
  {
   "cell_type": "markdown",
   "metadata": {
    "id": "_hffNUJm302Q"
   },
   "source": [
    "# *Two Pointers*"
   ]
  },
  {
   "cell_type": "markdown",
   "metadata": {
    "id": "pGKDPcn44SOY"
   },
   "source": [
    "## Two Sum\n",
    "\n",
    "https://leetcode.com/problems/two-sum/"
   ]
  },
  {
   "cell_type": "code",
   "execution_count": null,
   "metadata": {
    "colab": {
     "base_uri": "https://localhost:8080/"
    },
    "id": "8HUSpY9Y3pBC",
    "outputId": "75d17d3c-b099-42df-c182-2cda51bc3e63"
   },
   "outputs": [
    {
     "name": "stdout",
     "output_type": "stream",
     "text": [
      "[0, 2]\n"
     ]
    }
   ],
   "source": [
    "class Solution(object):\n",
    "\n",
    "    # Time: O(n) \n",
    "    # Space: O(n). would be O(1) if we're returning elements and not indexes\n",
    "    def twoSum_pointers(self, nums, target):\n",
    "        #need to store original because we need to return the indexes in the orignal array. no need to use extra space if just returning elements\n",
    "        sorted_nums = sorted(nums)\n",
    "        i, j = 0, len(nums) - 1\n",
    "        while i < j:\n",
    "          #sum too big. need a smaller number, so move j to the left to get a smaller number\n",
    "          if sorted_nums[i] + sorted_nums[j] > target:\n",
    "            j -= 1 \n",
    "          elif sorted_nums[i] + sorted_nums[j] < target:\n",
    "            i += 1\n",
    "          else:\n",
    "            break  \n",
    "\n",
    "        if sorted_nums[i] != sorted_nums[j]:\n",
    "          ind1 = nums.index(sorted_nums[i])\n",
    "          ind2 = nums.index(sorted_nums[j]) \n",
    "        else:\n",
    "          ind1 = nums.index(sorted_nums[i])\n",
    "          ind2 = len(nums) - nums[::-1].index(sorted_nums[j]) -1 \n",
    "                \n",
    "        return [ind1,ind2]\n",
    "\n",
    "if __name__ == '__main__':\n",
    "    s = Solution()\n",
    "    print(s.twoSum_pointers([3, 0, 3, 2], 6))"
   ]
  },
  {
   "cell_type": "markdown",
   "metadata": {
    "id": "DU_eWpbyA7fu"
   },
   "source": [
    "## Best Time to Buy and Sell Stock\n",
    "\n",
    "https://leetcode.com/problems/best-time-to-buy-and-sell-stock/"
   ]
  },
  {
   "cell_type": "code",
   "execution_count": null,
   "metadata": {
    "colab": {
     "base_uri": "https://localhost:8080/"
    },
    "id": "fmNGnI9MBAvF",
    "outputId": "4577f40c-693e-4c97-be24-5cabf4bd0a8e"
   },
   "outputs": [
    {
     "name": "stdout",
     "output_type": "stream",
     "text": [
      "5\n"
     ]
    }
   ],
   "source": [
    "class Solution(object):\n",
    "\n",
    "    # Time: O(n)\n",
    "    # Space: O(1)\n",
    "    def maxProfit(self, prices):\n",
    "        max_profit = 0\n",
    "        i, j = 0, 1\n",
    "        while j < len(prices):\n",
    "\n",
    "          if prices[i] > prices[j]:\n",
    "            i = j\n",
    "          else:\n",
    "            max_profit = max(max_profit, prices[j] - prices[i])\n",
    "          j += 1\n",
    "\n",
    "        return max_profit\n",
    "        \n",
    "if __name__ == '__main__':\n",
    "  s = Solution()\n",
    "  print(s.maxProfit([7,1,5,3,6,4]))"
   ]
  },
  {
   "cell_type": "markdown",
   "metadata": {
    "id": "XiyWFoMEwp1Y"
   },
   "source": [
    " ## Longest Substring Without Repeating Characters\n",
    "\n",
    " https://leetcode.com/problems/longest-substring-without-repeating-characters/"
   ]
  },
  {
   "cell_type": "code",
   "execution_count": null,
   "metadata": {
    "colab": {
     "base_uri": "https://localhost:8080/"
    },
    "id": "x4LF6Em2wo41",
    "outputId": "09fe50ea-63ef-4ada-80c3-b5757dad5aa3"
   },
   "outputs": [
    {
     "name": "stdout",
     "output_type": "stream",
     "text": [
      "6\n"
     ]
    }
   ],
   "source": [
    "class Solution(object):\n",
    "    def lengthOfLongestSubstring(self, s):\n",
    "        \"\"\"\n",
    "        :type s: str\n",
    "        :rtype: int\n",
    "        \"\"\"\n",
    "        maxlen = 0\n",
    "        i,j = 0,1\n",
    "        while i < j and j <= len(s):\n",
    "            if len(list(s[i:j])) == len(set(s[i:j])):\n",
    "                maxlen = max(maxlen, j-i)\n",
    "            else:\n",
    "              dup_start = i + s[i:j].index(s[j-1])\n",
    "              #find the duplicate location and start from there.\n",
    "              i = dup_start +1\n",
    "            j += 1\n",
    "           \n",
    "        return maxlen\n",
    "\n",
    "if __name__ == '__main__':\n",
    "    s = Solution()\n",
    "    print(s.lengthOfLongestSubstring(\"bbtablud\"))\n",
    "            "
   ]
  },
  {
   "cell_type": "markdown",
   "metadata": {},
   "source": [
    "## Sum of Square Numbers\n",
    "https://leetcode.com/problems/sum-of-square-numbers/"
   ]
  },
  {
   "cell_type": "code",
   "execution_count": null,
   "metadata": {
    "colab": {
     "base_uri": "https://localhost:8080/"
    },
    "id": "cEfm1Ue_8Qg-",
    "outputId": "636c29d4-0688-450e-f439-d94d4a414ac6"
   },
   "outputs": [
    {
     "name": "stdout",
     "output_type": "stream",
     "text": [
      "True\n"
     ]
    }
   ],
   "source": [
    "import math\n",
    "class Solution(object):\n",
    "    def judgeSquareSum(self, c):\n",
    "        \"\"\"\n",
    "        :type c: int\n",
    "        :rtype: bool\n",
    "        \"\"\" \n",
    "\n",
    "        i, j = 0, math.floor(math.sqrt(c))\n",
    "        while i <= j:\n",
    "          total = i*i + j*j\n",
    "          if total == c:\n",
    "            return True\n",
    "          elif total > c:\n",
    "            j -= 1\n",
    "          else:\n",
    "            i += 1\n",
    "        return False\n",
    "\n",
    "          \n",
    "\n",
    "if __name__ == '__main__':\n",
    "    s = Solution()\n",
    "    print(s.judgeSquareSum(4))\n",
    "            "
   ]
  },
  {
   "cell_type": "markdown",
   "metadata": {
    "id": "8RT8wMOab263"
   },
   "source": [
    "# *Arrays*"
   ]
  },
  {
   "cell_type": "markdown",
   "metadata": {
    "id": "gQ3y6ShZb6iH"
   },
   "source": [
    "## Contains Duplicate \n",
    "\n",
    "https://leetcode.com/problems/contains-duplicate/"
   ]
  },
  {
   "cell_type": "code",
   "execution_count": null,
   "metadata": {
    "colab": {
     "base_uri": "https://localhost:8080/"
    },
    "id": "02EA69xLcDP1",
    "outputId": "f8cac578-2e4d-4eec-9d56-0811018a1082"
   },
   "outputs": [
    {
     "name": "stdout",
     "output_type": "stream",
     "text": [
      "True\n"
     ]
    }
   ],
   "source": [
    "class Solution(object):\n",
    "\n",
    "    # Time: O(1)\n",
    "    # Space: O(n)\n",
    "    def containsDuplicate_set(self, nums):\n",
    "        if len(set(nums)) != len(nums):\n",
    "            return True\n",
    "        else:\n",
    "            return False       \n",
    "\n",
    "if __name__ == '__main__':\n",
    "    s = Solution()\n",
    "    print(s.containsDuplicate_set([1,1,1,3,3,4,3,2,4,2]))"
   ]
  },
  {
   "cell_type": "markdown",
   "metadata": {
    "id": "wZjqqc_menuc"
   },
   "source": [
    "## Find All Numbers Disappeared in an Array\n",
    "\n",
    "https://leetcode.com/problems/find-all-numbers-disappeared-in-an-array/"
   ]
  },
  {
   "cell_type": "code",
   "execution_count": null,
   "metadata": {
    "colab": {
     "base_uri": "https://localhost:8080/"
    },
    "id": "huMThwFFetUG",
    "outputId": "e0f70abc-bc39-4801-cc35-13c8dfc70825"
   },
   "outputs": [
    {
     "name": "stdout",
     "output_type": "stream",
     "text": [
      "[5, 6]\n"
     ]
    }
   ],
   "source": [
    "class Solution(object):\n",
    "\n",
    "    # Time: O(1)\n",
    "    # Space: O(n)\n",
    "    def findDisappearedNumbers(self, nums):\n",
    "        complete = set(range(1,len(nums)+1))\n",
    "        return list(complete - set(nums))      \n",
    "\n",
    "if __name__ == '__main__':\n",
    "    s = Solution()\n",
    "    print(s.findDisappearedNumbers([4,3,2,7,8,2,3,1]))"
   ]
  },
  {
   "cell_type": "markdown",
   "metadata": {
    "id": "d2dRVkZlfqSV"
   },
   "source": [
    "## Single Number\n",
    "\n",
    "https://leetcode.com/problems/single-number/"
   ]
  },
  {
   "cell_type": "code",
   "execution_count": null,
   "metadata": {
    "colab": {
     "base_uri": "https://localhost:8080/"
    },
    "id": "IXqiH7JxftwU",
    "outputId": "51925e05-6994-4e0f-bac2-c9d995aa93be"
   },
   "outputs": [
    {
     "name": "stdout",
     "output_type": "stream",
     "text": [
      "4\n",
      "4\n"
     ]
    }
   ],
   "source": [
    "class Solution(object):\n",
    "\n",
    "    # Time: O(n)\n",
    "    # Space: O(n)\n",
    "    def singleNumber(self, nums):\n",
    "      lst = []\n",
    "      for x in nums:\n",
    "        if x in lst:\n",
    "          lst.remove(x)\n",
    "        else:\n",
    "          lst.append(x)\n",
    "      return lst[0]\n",
    "\n",
    "    # Time: O(n)\n",
    "    # Space: O(n)\n",
    "    def singleNumber_set(self, nums):\n",
    "      return 2*sum(set(nums))-sum(nums)\n",
    "      \n",
    "if __name__ == '__main__':\n",
    "    s = Solution()\n",
    "    print(s.singleNumber([4,1,2,1,2]))\n",
    "    print(s.singleNumber_set([4,1,2,1,2]))"
   ]
  },
  {
   "cell_type": "markdown",
   "metadata": {
    "id": "viEzZUNj7Lrg"
   },
   "source": [
    "## Missing Number\n",
    "\n",
    "https://leetcode.com/problems/missing-number/"
   ]
  },
  {
   "cell_type": "code",
   "execution_count": null,
   "metadata": {
    "colab": {
     "base_uri": "https://localhost:8080/"
    },
    "id": "VQgXad5z7K3d",
    "outputId": "1599605b-0e83-4d54-ff21-62b2ba827a59"
   },
   "outputs": [
    {
     "name": "stdout",
     "output_type": "stream",
     "text": [
      "8\n"
     ]
    }
   ],
   "source": [
    "class Solution(object):\n",
    "    # Time: O(n)\n",
    "    # Space: O(1)\n",
    "    def missingNumber(self, nums):\n",
    "      return sum(list(range(len(nums)+1))) - sum(nums)\n",
    "                \n",
    "if __name__ == '__main__':\n",
    "    s = Solution()\n",
    "    print(s.missingNumber([9,6,4,2,3,5,7,0,1]))"
   ]
  },
  {
   "cell_type": "markdown",
   "metadata": {
    "id": "1iwIhZ2_bzKS"
   },
   "source": [
    "## Subsets I\n",
    "https://leetcode.com/problems/subsets/"
   ]
  },
  {
   "cell_type": "code",
   "execution_count": null,
   "metadata": {
    "colab": {
     "base_uri": "https://localhost:8080/"
    },
    "id": "LPzGzk0Nb4aM",
    "outputId": "a5e087f3-ff23-43e3-fd82-54fd8fb2c0f6"
   },
   "outputs": [],
   "source": [
    "class Solution(object):\n",
    "    def subsets(self, nums):\n",
    "        \"\"\"\n",
    "        :type nums: List[int]\n",
    "        :rtype: List[List[int]]\n",
    "        \"\"\"\n",
    "        res = [[]]\n",
    "        for i in nums:\n",
    "            res += [subset + [i] for subset in res]\n",
    "        return res\n",
    "\n",
    "\n",
    "\n",
    "if __name__ == '__main__':\n",
    "    s = Solution()\n",
    "    print(s.subsets([1,2,3,4]))  \n",
    "    "
   ]
  },
  {
   "cell_type": "code",
   "execution_count": null,
   "metadata": {},
   "outputs": [],
   "source": [
    "class Solution(object):\n",
    "    def subsets(self, nums):\n",
    "        \"\"\"\n",
    "        :type nums: List[int]\n",
    "        :rtype: List[List[int]]\n",
    "        \"\"\"\n",
    "        res = [[]]\n",
    "        for n in nums:\n",
    "            for i in range(len(res)):\n",
    "                res.append(res[i] + [n])\n",
    "        return res\n",
    "\n",
    "if __name__ == '__main__':\n",
    "    s = Solution()\n",
    "    print(s.subsets([1,2,3,4]))"
   ]
  },
  {
   "cell_type": "markdown",
   "metadata": {
    "id": "AB0ohRokb-Ee"
   },
   "source": [
    "## Subsets II\n",
    "https://leetcode.com/problems/subsets-ii/"
   ]
  },
  {
   "cell_type": "code",
   "execution_count": null,
   "metadata": {
    "colab": {
     "base_uri": "https://localhost:8080/"
    },
    "id": "W0KTetimcAZY",
    "outputId": "b1cb2d63-bce5-4acf-90fe-669124ad58bf"
   },
   "outputs": [
    {
     "name": "stdout",
     "output_type": "stream",
     "text": [
      "[[1], [1, 4, 4], [1, 4, 4, 4], [4, 4], [1, 4], [4], [4, 4, 4], [], [1, 4, 4, 4, 4], [4, 4, 4, 4]]\n"
     ]
    }
   ],
   "source": [
    "class Solution(object):\n",
    "   \n",
    "    def subsetsWithDup(self, nums):\n",
    "        \"\"\"\n",
    "        :type nums: List[int]\n",
    "        :rtype: List[List[int]]\n",
    "        \"\"\"\n",
    "        #sort to make sure all output subsets are in order, so when we convert to tuple and then set, the dup ones will be gone. \n",
    "        #ie to avoid cases like [1,4] and [4,1], which after converted to tuples will be different tuples\n",
    "        nums.sort()\n",
    "        res = [[]]\n",
    "        for i in nums:\n",
    "            res += [subset + [i] for subset in res]\n",
    "        # you could convert a list of int into set by simply doing set(lst), no problem\n",
    "        # however, here res is not a list of int, rather, it's a list of list\n",
    "        # to convert into set (or key in dictionary), each element needs to be hashable \n",
    "        # (which means they need to have a hash value that remains the same during their entire lifetime)\n",
    "        # lists are not hashable because they're mutable. They can be changed!\n",
    "        # so we convert lists into tuples which are inmutable.\n",
    "        res = set([tuple(l) for l in res])\n",
    "        res = [list(l) for l in res]\n",
    "        \n",
    "        return res\n",
    "\n",
    "\n",
    "\n",
    "if __name__ == '__main__':\n",
    "    s = Solution()\n",
    "    print(s.subsetsWithDup([4,4,4,1,4]))  \n",
    "    "
   ]
  },
  {
   "cell_type": "markdown",
   "metadata": {
    "id": "YN3DRpDC_3b5"
   },
   "source": [
    "# *Dynamic Programming*"
   ]
  },
  {
   "cell_type": "markdown",
   "metadata": {
    "id": "CksUAuXsAAyM"
   },
   "source": [
    "## Maximum Subarray\n",
    "\n",
    "https://leetcode.com/problems/maximum-subarray/"
   ]
  },
  {
   "cell_type": "code",
   "execution_count": null,
   "metadata": {
    "colab": {
     "base_uri": "https://localhost:8080/"
    },
    "id": "c4YOQljO_2Vi",
    "outputId": "fbfe3ad5-b12b-4d57-81bd-0d7cda7e7555"
   },
   "outputs": [
    {
     "name": "stdout",
     "output_type": "stream",
     "text": [
      "6\n"
     ]
    }
   ],
   "source": [
    "class Solution:\n",
    "    def maxSubArray(self, nums): \n",
    "\n",
    "      cur_sum = nums[0]\n",
    "      max_sum = nums[0]\n",
    "      for i in nums[1:]:\n",
    "                  \n",
    "          if cur_sum < 0:\n",
    "              cur_sum = 0\n",
    "          cur_sum += i \n",
    "\n",
    "          max_sum = max(max_sum, cur_sum)\n",
    "\n",
    "      return max_sum\n",
    "\n",
    "if __name__ == '__main__':\n",
    "    s = Solution()\n",
    "    print(s.maxSubArray([-2,1,-3,4,-1,2,1,-5,4]))"
   ]
  },
  {
   "cell_type": "markdown",
   "metadata": {
    "id": "WBaLHhuwBnMR"
   },
   "source": [
    "# *Hash Map*"
   ]
  },
  {
   "cell_type": "markdown",
   "metadata": {
    "id": "B-ZgSGo_B6Ce"
   },
   "source": [
    "## Two Sum\n",
    "\n",
    "https://leetcode.com/problems/two-sum/"
   ]
  },
  {
   "cell_type": "code",
   "execution_count": null,
   "metadata": {
    "colab": {
     "base_uri": "https://localhost:8080/"
    },
    "id": "BkHn4KowB9Ez",
    "outputId": "6260baad-bed0-46d4-c37b-0ffb8e36ab54"
   },
   "outputs": [
    {
     "name": "stdout",
     "output_type": "stream",
     "text": [
      "[1, 2]\n"
     ]
    }
   ],
   "source": [
    "class Solution(object):\n",
    "    # Time: O(n) \n",
    "    # Space: O(n)\n",
    "    def twoSum_hash(self, nums, target):\n",
    "        h = {}\n",
    "        for i, x in enumerate(nums):\n",
    "          if target - x not in h:\n",
    "            h[x] = i\n",
    "          else:\n",
    "            return [h[target-x], i]\n",
    "\n",
    "if __name__ == '__main__':\n",
    "    s = Solution()\n",
    "    print(s.twoSum_hash([3, 2, 4], 6))"
   ]
  },
  {
   "cell_type": "markdown",
   "metadata": {
    "id": "67TGEkKaVmOJ"
   },
   "source": [
    "## 3 Sum\n",
    "https://leetcode.com/problems/3sum/"
   ]
  },
  {
   "cell_type": "code",
   "execution_count": null,
   "metadata": {
    "colab": {
     "base_uri": "https://localhost:8080/"
    },
    "id": "PsivkTEeVo6W",
    "outputId": "4b165488-c705-41dc-e526-60cc6e7f18c0"
   },
   "outputs": [
    {
     "name": "stdout",
     "output_type": "stream",
     "text": [
      "[[-1, 0, 1], [-1, -1, 2]]\n"
     ]
    }
   ],
   "source": [
    "#Input: nums = [-1,0,1,2,-1,-4]\n",
    "#Output: [[-1,-1,2],[-1,0,1]]\n",
    "\n",
    "class Solution(object):\n",
    "    # Time: O(n) \n",
    "    # Space: O(n)\n",
    "      def threeSum(self, nums):\n",
    "        res = []\n",
    "        nums.sort()\n",
    "        for i in range(len(nums)):         \n",
    "          target = -nums[i]\n",
    "          candidate = nums[i+1:]\n",
    "          h = {}\n",
    "          for i in candidate:\n",
    "            if target - i not in h:\n",
    "              h[i]  = i\n",
    "            elif [-target, target-i, i] not in res:\n",
    "              res.append([-target, target-i, i])\n",
    "        return res\n",
    "            \n",
    "          \n",
    "if __name__ == '__main__':\n",
    "    s = Solution()\n",
    "    print(s.threeSum([-1,0,1,2,-1,-4]))"
   ]
  },
  {
   "cell_type": "markdown",
   "metadata": {
    "id": "7zAlVQuVdxzN"
   },
   "source": [
    "## Contains Duplicate \n",
    "\n",
    "https://leetcode.com/problems/contains-duplicate/"
   ]
  },
  {
   "cell_type": "code",
   "execution_count": null,
   "metadata": {
    "colab": {
     "base_uri": "https://localhost:8080/"
    },
    "id": "oxd61bpVd0yw",
    "outputId": "fcd6465f-c58a-44e1-e95e-2c2a6ad35070"
   },
   "outputs": [
    {
     "name": "stdout",
     "output_type": "stream",
     "text": [
      "True\n"
     ]
    }
   ],
   "source": [
    "class Solution(object):\n",
    "\n",
    "    # Time: O(n)\n",
    "    # Space: O(n)\n",
    "    def containsDuplicate_hash(self, nums):\n",
    "        h = {}\n",
    "        for x in nums:\n",
    "          if x in h:\n",
    "            return True\n",
    "          else:\n",
    "            h[x] = 1\n",
    "\n",
    "if __name__ == '__main__':\n",
    "    s = Solution()\n",
    "    print(s.containsDuplicate_hash([1,1,1,3,3,4,3,2,4,2]))"
   ]
  },
  {
   "cell_type": "markdown",
   "metadata": {
    "id": "Qbf49X00Qnnz"
   },
   "source": [
    "## Happy Number\n",
    "\n",
    "https://leetcode.com/problems/happy-number/"
   ]
  },
  {
   "cell_type": "code",
   "execution_count": null,
   "metadata": {
    "colab": {
     "base_uri": "https://localhost:8080/"
    },
    "id": "hyAPGUlIQnn7",
    "outputId": "b97e560f-78e3-4782-dc77-beae84283480"
   },
   "outputs": [
    {
     "name": "stdout",
     "output_type": "stream",
     "text": [
      "True\n"
     ]
    }
   ],
   "source": [
    "class Solution(object):\n",
    "    def isHappy(self, n):\n",
    "        # Time: O(n)\n",
    "        # Space: O(n)\n",
    "        res_lst = set()\n",
    "        while n != 1:\n",
    "            if n in res_lst:\n",
    "                return False\n",
    "            \n",
    "            res_lst.add(n)\n",
    "            n = sum([int(i)**2 for i in str(n)])\n",
    "        return True\n",
    "            \n",
    "\n",
    "if __name__ == '__main__':\n",
    "    s = Solution()\n",
    "    print(s.isHappy(19))"
   ]
  },
  {
   "cell_type": "markdown",
   "metadata": {
    "id": "HjZKR5YrVf-j"
   },
   "source": [
    "# *Binary Search*"
   ]
  },
  {
   "cell_type": "markdown",
   "metadata": {
    "id": "Wm_vX6v-Vlxv"
   },
   "source": [
    "## Binary Search \n",
    "\n",
    "https://leetcode.com/problems/binary-search/"
   ]
  },
  {
   "cell_type": "code",
   "execution_count": null,
   "metadata": {
    "colab": {
     "base_uri": "https://localhost:8080/"
    },
    "id": "rA12_LYCVlKQ",
    "outputId": "336879a6-d3ac-4fa6-fc92-cba739f83a76"
   },
   "outputs": [
    {
     "name": "stdout",
     "output_type": "stream",
     "text": [
      "4\n"
     ]
    }
   ],
   "source": [
    "class Solution(object):\n",
    "    #Time: O(log n)\n",
    "    #Space: O(1)\n",
    "    def search(self, nums, target):\n",
    "        i, j = 0, len(nums)-1\n",
    "        while i <= j:\n",
    "            m = (i+j)//2\n",
    "            if nums[m] == target:\n",
    "                return m\n",
    "            elif nums[m] < target:\n",
    "                i = m+1\n",
    "            else:\n",
    "                j = m-1\n",
    "        return -1\n",
    "\n",
    "if __name__ == '__main__':\n",
    "    s = Solution()\n",
    "    print(s.search([-1,0,3,5,9,12],9))     \n",
    "    "
   ]
  },
  {
   "cell_type": "markdown",
   "metadata": {
    "id": "G-U7LPoLcu2C"
   },
   "source": [
    "## Find Smallest Letter Greater Than Target\n",
    "\n",
    "https://leetcode.com/problems/find-smallest-letter-greater-than-target/"
   ]
  },
  {
   "cell_type": "code",
   "execution_count": null,
   "metadata": {
    "colab": {
     "base_uri": "https://localhost:8080/"
    },
    "id": "2eCe7YQkcy0y",
    "outputId": "d7bc2680-5b5c-4fd7-9f5b-46a208550a53"
   },
   "outputs": [
    {
     "name": "stdout",
     "output_type": "stream",
     "text": [
      "f\n"
     ]
    }
   ],
   "source": [
    "class Solution(object):\n",
    "    def nextGreatestLetter(self, letters, target):        \n",
    "        # if target is bigger than all the letters\n",
    "        #return smallest\n",
    "        res = letters[0]\n",
    "        i, j = 0, len(letters) - 1\n",
    "        while i <= j :\n",
    "            m = (i+j)//2\n",
    "            if letters[m] <= target:\n",
    "                i = m + 1\n",
    "            else:\n",
    "                j = m - 1\n",
    "                res = letters[m]\n",
    "        return res\n",
    "\n",
    "\n",
    "if __name__ == '__main__':\n",
    "    s = Solution()\n",
    "    print(s.nextGreatestLetter([\"c\",\"f\",\"j\"],\"d\"))     "
   ]
  },
  {
   "cell_type": "markdown",
   "metadata": {
    "id": "-mgWrd7GFxzF"
   },
   "source": [
    "# *TREEssss*"
   ]
  },
  {
   "cell_type": "markdown",
   "metadata": {
    "id": "xv1h1H_tFAVi"
   },
   "source": [
    "## Average of Levels in Binary Tree\n",
    "\n",
    "https://leetcode.com/problems/average-of-levels-in-binary-tree/"
   ]
  },
  {
   "cell_type": "code",
   "execution_count": null,
   "metadata": {
    "colab": {
     "base_uri": "https://localhost:8080/"
    },
    "id": "Ta_c4q_gF1Lj",
    "outputId": "094d9aae-cc6a-4ee9-b315-1a6d42508ecf"
   },
   "outputs": [
    {
     "name": "stdout",
     "output_type": "stream",
     "text": [
      "[3, 14.5, 11.0]\n",
      "[3.0, 14.5, 11.0]\n"
     ]
    }
   ],
   "source": [
    "from collections import defaultdict\n",
    "class TreeNode(object):\n",
    "    def __init__(self, val=0, left=None, right=None):\n",
    "        self.val = val\n",
    "        self.left = left\n",
    "        self.right = right\n",
    "#BFS\n",
    "def averageOfLevels_BFS(root):\n",
    "        \"\"\"\n",
    "        :type root: TreeNode\n",
    "        :rtype: List[float]\n",
    "        \"\"\"\n",
    "        res = [root.val]\n",
    "        last = [root]\n",
    "        \n",
    "        while last:\n",
    "            new_level = []\n",
    "            level_sum = 0\n",
    "            for node in last:\n",
    "                if node.left:\n",
    "                    new_level.append(node.left)\n",
    "                    level_sum += node.left.val\n",
    "                if node.right:\n",
    "                    new_level.append(node.right)\n",
    "                    level_sum += node.right.val\n",
    "            if len(new_level) != 0:\n",
    "                res.append(level_sum*1.0/len(new_level))\n",
    "            last = new_level\n",
    "        return res\n",
    "\n",
    "#DFS\n",
    "def averageOfLevels_DFS(root):\n",
    "        \"\"\"\n",
    "        :type root: TreeNode\n",
    "        :rtype: List[float]\n",
    "        \"\"\"\n",
    "        \n",
    "        #Sum = {}\n",
    "        #Count = {}\n",
    "        Sum = defaultdict(float)\n",
    "        Count = defaultdict(int)\n",
    "        def dfs(node,h):\n",
    "          if not node: return None\n",
    "          Sum[h]+=node.val\n",
    "          Count[h]+=1\n",
    "          \n",
    "          dfs(node.left,h+1)\n",
    "          dfs(node.right,h+1)\n",
    "          \n",
    "        \n",
    "        dfs(root,0)\n",
    "\n",
    "        return [Sum[i]/Count[i] for i in range(len(Sum))]\n",
    "\n",
    "\n",
    "if __name__ == '__main__':\n",
    " \n",
    "    # Let us construct a Binary Tree\n",
    "    #     3 \n",
    "    #    / \\\n",
    "    #   9  20\n",
    "    #  / \\ \n",
    "    # 15  7 \n",
    "    root = TreeNode(3)\n",
    "    root.left = TreeNode(9)\n",
    "    root.right = TreeNode(20)\n",
    "    root.left.left = TreeNode(15)\n",
    "    root.left.right = TreeNode(7)\n",
    "    print(averageOfLevels_BFS(root))\n",
    "    print(averageOfLevels_DFS(root))"
   ]
  },
  {
   "cell_type": "markdown",
   "metadata": {
    "id": "KUsQTKlSFC1y"
   },
   "source": [
    "##  Binary Tree Level Order Traversal\n",
    "\n",
    "https://leetcode.com/problems/binary-tree-level-order-traversal/"
   ]
  },
  {
   "cell_type": "code",
   "execution_count": null,
   "metadata": {
    "colab": {
     "base_uri": "https://localhost:8080/"
    },
    "id": "ZR8rvVvlFFuf",
    "outputId": "f444695f-a9fe-45f0-ad9b-641505aee783"
   },
   "outputs": [
    {
     "name": "stdout",
     "output_type": "stream",
     "text": [
      "[[3], [9, 20], [15, 7, 16, 18]]\n"
     ]
    }
   ],
   "source": [
    "#DFS\n",
    "class TreeNode(object):\n",
    "    def __init__(self, val=0, left=None, right=None):\n",
    "        self.val = val\n",
    "        self.left = left\n",
    "        self.right = right\n",
    "\n",
    "def levelOrder(root):\n",
    "    \"\"\"\n",
    "    :type root: Node\n",
    "    :rtype: List[List[int]]\n",
    "    \"\"\"\n",
    "    Nodeval = {}\n",
    "    def dfs(node, h):\n",
    "        if not node: return\n",
    "        if h not in Nodeval:\n",
    "            Nodeval[h] = [node.val]\n",
    "        else:\n",
    "            Nodeval[h].append(node.val)\n",
    "        h += 1\n",
    "        dfs(node.left, h)\n",
    "        dfs(node.right, h)\n",
    "    dfs(root, 0)\n",
    "    return [x for i,x in Nodeval.items()]\n",
    "\n",
    "if __name__ == '__main__':\n",
    " \n",
    "    # Let us construct a Binary Tree\n",
    "    #      3 \n",
    "    #    /   \\\n",
    "    #   9    20\n",
    "    #  / \\   / \\\n",
    "    # 15 7   16  18\n",
    "    root = TreeNode(3)\n",
    "    root.left = TreeNode(9)\n",
    "    root.right = TreeNode(20)\n",
    "    root.left.left = TreeNode(15)\n",
    "    root.left.right = TreeNode(7)\n",
    "    root.right.left = TreeNode(16)\n",
    "    root.right.right = TreeNode(18)\n",
    "\n",
    "    print(levelOrder(root))"
   ]
  },
  {
   "cell_type": "markdown",
   "metadata": {
    "id": "XHm3bPPFGw7T"
   },
   "source": [
    "## N-ary Tree Level Order Traversal\n",
    "\n",
    "https://leetcode.com/problems/n-ary-tree-level-order-traversal/\n",
    "\n"
   ]
  },
  {
   "cell_type": "code",
   "execution_count": null,
   "metadata": {
    "colab": {
     "base_uri": "https://localhost:8080/"
    },
    "id": "2ngl2A_rG3ms",
    "outputId": "bc1a2044-3408-4fea-d705-5c4eb618861b"
   },
   "outputs": [
    {
     "name": "stdout",
     "output_type": "stream",
     "text": [
      "[[1], [3, 2, 4], [5, 6, 8, 9, 10]]\n",
      "[[1], [3, 2, 4], [5, 6, 8, 9, 10]]\n"
     ]
    }
   ],
   "source": [
    "class Node(object):\n",
    "    def __init__(self, val=None, children=None):\n",
    "        self.val = val\n",
    "        self.children = children\n",
    "\n",
    "#dfs\n",
    "def levelOrder_dfs(root):\n",
    "    \"\"\"\n",
    "    :type root: Node\n",
    "    :rtype: List[List[int]]\n",
    "    \"\"\"\n",
    "    if not root: return []\n",
    "    \n",
    "    Nodeval = {}\n",
    "    def dfs(node, h):\n",
    "        if not node: return    \n",
    "        if h not in Nodeval:\n",
    "            Nodeval[h] = [node.val]\n",
    "        else:\n",
    "            Nodeval[h].append(node.val)\n",
    "        if node.children:\n",
    "          for child_node in node.children:\n",
    "              dfs(child_node, h+1)\n",
    "\n",
    "    dfs(root, 0)\n",
    "    return [x for x in Nodeval.values()]\n",
    "\n",
    "#bfs\n",
    "def levelOrder_bfs(root):\n",
    "    \"\"\"\n",
    "    :type root: Node\n",
    "    :rtype: List[List[int]]\n",
    "    \"\"\"\n",
    "    if not root: return []\n",
    "    res = []\n",
    "    cur_level = [root]\n",
    "\n",
    "    while cur_level:\n",
    "      cur_level_val = []\n",
    "      temp = []\n",
    "      for node in cur_level:\n",
    "        cur_level_val.append(node.val)\n",
    "        if node.children:\n",
    "          temp += node.children\n",
    "      cur_level = temp\n",
    "      res.append(cur_level_val)\n",
    "    \n",
    "\n",
    "    return res\n",
    "\n",
    "if __name__ == '__main__':\n",
    " \n",
    "    # Let us construct a N-ary Tree\n",
    "    #      1 \n",
    "    #    / | \\\n",
    "    #   3  2  4\n",
    "    #  / \\   /|\\\n",
    "    # 5  6  8 9 10\n",
    "    root = Node(1)\n",
    "    root.children = [Node(3),Node(2),Node(4)]\n",
    "    root.children[0].children = [Node(5),Node(6)]\n",
    "    root.children[2].children = [Node(8),Node(9),Node(10)]\n",
    "\n",
    "    print(levelOrder_dfs(root))\n",
    "    print(levelOrder_bfs(root))"
   ]
  },
  {
   "cell_type": "markdown",
   "metadata": {
    "id": "LnqtXxmRxz0Q"
   },
   "source": [
    "# *String*"
   ]
  },
  {
   "cell_type": "markdown",
   "metadata": {},
   "source": [
    "## Palindrome Number\n",
    "\n",
    "https://leetcode.com/problems/palindrome-number/"
   ]
  },
  {
   "cell_type": "code",
   "execution_count": 2,
   "metadata": {
    "id": "KoNs1XvQ2ZZO"
   },
   "outputs": [
    {
     "name": "stdout",
     "output_type": "stream",
     "text": [
      "True\n"
     ]
    }
   ],
   "source": [
    "class Solution(object):\n",
    "    def isPalindrome(self, x):\n",
    "        \"\"\"\n",
    "        :type x: int\n",
    "        :rtype: bool\n",
    "        \"\"\"\n",
    "        return str(x) == str(x)[::-1]\n",
    "                \n",
    "      \n",
    "if __name__ == '__main__':\n",
    "    s = Solution()\n",
    "    print(s.isPalindrome('121'))"
   ]
  },
  {
   "cell_type": "markdown",
   "metadata": {},
   "source": [
    "# *Backtracking*"
   ]
  },
  {
   "cell_type": "markdown",
   "metadata": {
    "id": "qLEB6ZoH2abp"
   },
   "source": [
    "## Palindrome Partitioning\n",
    "\n",
    "https://leetcode.com/problems/palindrome-partitioning/"
   ]
  },
  {
   "cell_type": "code",
   "execution_count": 15,
   "metadata": {
    "colab": {
     "base_uri": "https://localhost:8080/"
    },
    "id": "NMGGjDrhx34K",
    "outputId": "e219c12b-96ca-4d6c-869f-d625c42747bf"
   },
   "outputs": [
    {
     "name": "stdout",
     "output_type": "stream",
     "text": [
      "[['a', 'a', 'b'], ['aa', 'b']]\n"
     ]
    }
   ],
   "source": [
    "#Input: s = \"aab\"\n",
    "#Output: [[\"a\",\"a\",\"b\"],[\"aa\",\"b\"]]\n",
    "\n",
    "class Solution(object):\n",
    "    def partition(self, s):\n",
    "        \"\"\"\n",
    "        :type s: str\n",
    "        :rtype: List[List[str]]\n",
    "        \"\"\"  \n",
    "        res = []\n",
    "        part = []  \n",
    "        def dfs(i):         \n",
    "            if i == len(s):\n",
    "                res.append(part.copy())\n",
    "                return\n",
    "            for j in range(i,len(s)):\n",
    "                if self.isPalindrome(s, i, j):\n",
    "                    part.append(s[i:j+1])\n",
    "                    dfs(j+1)\n",
    "                    part.pop()\n",
    "        dfs(0)\n",
    "        return res\n",
    "\n",
    "                        \n",
    "    def isPalindrome(self,s,l,r):\n",
    "        while l < r:\n",
    "            if s[l] != s[r]:\n",
    "                return False\n",
    "            l, r = l+1, r-1\n",
    "        return True\n",
    "\n",
    "if __name__ == '__main__':\n",
    "    s = Solution()\n",
    "    print(s.partition('aab'))"
   ]
  },
  {
   "cell_type": "markdown",
   "metadata": {
    "id": "qLEB6ZoH2abp"
   },
   "source": [
    "## Word Search\n",
    "\n",
    "https://leetcode.com/problems/word-search/"
   ]
  },
  {
   "cell_type": "code",
   "execution_count": 16,
   "metadata": {},
   "outputs": [
    {
     "name": "stdout",
     "output_type": "stream",
     "text": [
      "True\n"
     ]
    }
   ],
   "source": [
    "class Solution(object):\n",
    "    def exist(self, board, word):\n",
    "        \"\"\"\n",
    "        :type board: List[List[str]]\n",
    "        :type word: str\n",
    "        :rtype: bool\n",
    "        \"\"\"\n",
    "        nrow, ncol = len(board), len(board[0])\n",
    "        path = set()\n",
    "        def dfs(r,c,i):\n",
    "            if i == len(word):\n",
    "                return True\n",
    "            if (r<0 or c<0 or r>=nrow or c>=ncol or word[i]!=board[r][c] or (r,c) in path):\n",
    "                return False\n",
    "            \n",
    "            path.add((r,c))\n",
    "            res = (dfs(r, c+1, i+1) or\n",
    "            dfs(r, c-1, i+1) or\n",
    "            dfs(r+1, c, i+1) or\n",
    "            dfs(r-1, c, i+1))\n",
    "            path.remove((r,c))         \n",
    "            return res\n",
    "            \n",
    "        for r in range(nrow):\n",
    "            for c in range(ncol):\n",
    "                if dfs(r,c,0):\n",
    "                    return True\n",
    "        return False\n",
    "        \n",
    "        \n",
    "        \n",
    "\n",
    "if __name__ == '__main__':\n",
    "    s = Solution()\n",
    "    board = [[\"A\",\"B\",\"C\",\"E\"],[\"S\",\"F\",\"C\",\"S\"],[\"A\",\"D\",\"E\",\"E\"]]\n",
    "    word = \"ABCCED\"\n",
    "    print(s.exist(board, word))"
   ]
  },
  {
   "cell_type": "code",
   "execution_count": null,
   "metadata": {},
   "outputs": [],
   "source": []
  }
 ],
 "metadata": {
  "colab": {
   "collapsed_sections": [
    "TfE4u1MNCz-H",
    "pGKDPcn44SOY",
    "DU_eWpbyA7fu",
    "gQ3y6ShZb6iH",
    "wZjqqc_menuc",
    "d2dRVkZlfqSV",
    "viEzZUNj7Lrg",
    "1iwIhZ2_bzKS",
    "AB0ohRokb-Ee",
    "CksUAuXsAAyM",
    "B-ZgSGo_B6Ce",
    "67TGEkKaVmOJ",
    "7zAlVQuVdxzN",
    "Wm_vX6v-Vlxv",
    "G-U7LPoLcu2C",
    "xv1h1H_tFAVi",
    "KUsQTKlSFC1y",
    "XHm3bPPFGw7T",
    "qLEB6ZoH2abp"
   ],
   "provenance": []
  },
  "kernelspec": {
   "display_name": "Python 3 (ipykernel)",
   "language": "python",
   "name": "python3"
  },
  "language_info": {
   "codemirror_mode": {
    "name": "ipython",
    "version": 3
   },
   "file_extension": ".py",
   "mimetype": "text/x-python",
   "name": "python",
   "nbconvert_exporter": "python",
   "pygments_lexer": "ipython3",
   "version": "3.8.5"
  }
 },
 "nbformat": 4,
 "nbformat_minor": 1
}
